{
 "cells": [
  {
   "cell_type": "code",
   "execution_count": 4,
   "metadata": {},
   "outputs": [
    {
     "name": "stdout",
     "output_type": "stream",
     "text": [
      "A\n",
      "應用程式結束\n"
     ]
    }
   ],
   "source": [
    "#請輸入小寫英文字，會輸出大寫英文字 (按q會離開)\n",
    "stuff = input(\"請輸入小寫英文字[按q會離開]\")\n",
    "while stuff != 'q':\n",
    "    print(stuff.upper())\n",
    "    stuff = input(\"請輸入小寫英文字[按q會離開]\")\n",
    "\n",
    "print(\"應用程式結束\")"
   ]
  },
  {
   "cell_type": "code",
   "execution_count": 6,
   "metadata": {},
   "outputs": [
    {
     "name": "stdout",
     "output_type": "stream",
     "text": [
      "A\n",
      "應用程式結束\n"
     ]
    }
   ],
   "source": [
    "while True:\n",
    "    stuff = input(\"請輸入小寫英文字[按q會離開]\")\n",
    "    if stuff == 'q':\n",
    "        break\n",
    "    print(stuff.upper())\n",
    "    \n",
    "print(\"應用程式結束\")"
   ]
  },
  {
   "cell_type": "code",
   "execution_count": 8,
   "metadata": {},
   "outputs": [
    {
     "name": "stdout",
     "output_type": "stream",
     "text": [
      "應用程式結束\n"
     ]
    }
   ],
   "source": [
    "while True:\n",
    "    letter = input(\"請輸入小寫英文字[按q會離開]\")\n",
    "    if letter==\"q\":\n",
    "        break\n",
    "    try:\n",
    "        number= int(letter)\n",
    "    except:\n",
    "        print(\"格式錯誤\")\n",
    "        continue\n",
    "    if not number%2==0:\n",
    "        print(number**2)\n",
    "print(\"應用程式結束\")"
   ]
  }
 ],
 "metadata": {
  "kernelspec": {
   "display_name": "Python 3",
   "language": "python",
   "name": "python3"
  },
  "language_info": {
   "codemirror_mode": {
    "name": "ipython",
    "version": 3
   },
   "file_extension": ".py",
   "mimetype": "text/x-python",
   "name": "python",
   "nbconvert_exporter": "python",
   "pygments_lexer": "ipython3",
   "version": "3.11.9"
  }
 },
 "nbformat": 4,
 "nbformat_minor": 2
}
