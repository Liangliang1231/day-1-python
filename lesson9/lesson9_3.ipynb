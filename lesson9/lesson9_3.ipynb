{
 "cells": [
  {
   "cell_type": "code",
   "execution_count": 2,
   "metadata": {},
   "outputs": [
    {
     "name": "stdout",
     "output_type": "stream",
     "text": [
      "我是person的實體,我的名字是:liangliang\n",
      "我是person的實體,我的名字是:紀亮亮\n"
     ]
    }
   ],
   "source": [
    "#透過自定的__init__(self),建立自訂的初始化\n",
    "class Person():\n",
    "    def __init__(self,n:str):\n",
    "        self.name = n\n",
    "\n",
    "    def __repr__(self):\n",
    "        return f\"我是person的實體,我的名字是:{self.name}\"\n",
    "    \n",
    "\n",
    "p1 = Person(\"liangliang\")\n",
    "print(p1)\n",
    "\n",
    "\n",
    "p2 = Person(n=\"紀亮亮\")\n",
    "print(p2)"
   ]
  },
  {
   "cell_type": "code",
   "execution_count": 9,
   "metadata": {},
   "outputs": [
    {
     "name": "stdout",
     "output_type": "stream",
     "text": [
      "紀芊芸\n",
      "78\n",
      "92\n",
      "69\n",
      "我是person的實體,我的名字是:紀芊芸\n",
      "================================\n",
      "黃泠澤\n",
      "92\n",
      "79\n",
      "88\n",
      "我是person的實體,我的名字是:黃泠澤\n"
     ]
    }
   ],
   "source": [
    "class Student(Person):\n",
    "    def __init__(self,n:str,ch:int,en:int,ma:int):\n",
    "        super().__init__(n=n)\n",
    "        self.name=n\n",
    "        self.chinese=ch\n",
    "        self.english=en\n",
    "        self.math=ma\n",
    "\n",
    "    def __repr__(self):\n",
    "        return \"我是Student的實體\"\n",
    "\n",
    "    ## 實體方法\n",
    "\n",
    "    def sum(self)-> int:\n",
    "        return self.chinese+self.english+self.math\n",
    "    \n",
    "    def average \n",
    "\n",
    "s1 = Student(\"紀芊芸\",ch=78,en=92,ma=69)\n",
    "print(s1.name)\n",
    "print(s1.chinese)\n",
    "print(s1.english)\n",
    "print(s1.math)\n",
    "print(s1)\n",
    "\n",
    "print(\"================================\")\n",
    "\n",
    "s2 = Student(\"黃泠澤\",ch=92,en=79,ma=88)\n",
    "print(s2.name)\n",
    "print(s2.chinese)\n",
    "print(s2.english)\n",
    "print(s2.math)\n",
    "print(s2)\n"
   ]
  }
 ],
 "metadata": {
  "kernelspec": {
   "display_name": "Python 3",
   "language": "python",
   "name": "python3"
  },
  "language_info": {
   "codemirror_mode": {
    "name": "ipython",
    "version": 3
   },
   "file_extension": ".py",
   "mimetype": "text/x-python",
   "name": "python",
   "nbconvert_exporter": "python",
   "pygments_lexer": "ipython3",
   "version": "3.11.9"
  }
 },
 "nbformat": 4,
 "nbformat_minor": 2
}
