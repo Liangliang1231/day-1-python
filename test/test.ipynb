{
 "cells": [
  {
   "cell_type": "code",
   "execution_count": 9,
   "metadata": {},
   "outputs": [
    {
     "name": "stdout",
     "output_type": "stream",
     "text": [
      "invalid literal for int() with base 10: 'a'\n"
     ]
    }
   ],
   "source": [
    "try:\n",
    "    num=int(input(\"請輸入整數\"))\n",
    "    if num>0:\n",
    "        print(f\"{num}是正數\")\n",
    "    if num<0:\n",
    "        print(f\"{num}是負數\")\n",
    "    if num==0:\n",
    "        print(f\"{num}是零\")\n",
    "\n",
    "    if num%2==1:\n",
    "        print((f\"{num}是奇數\"))\n",
    "    if num%2==0:\n",
    "        print((f\"{num}是偶數\"))\n",
    "except Exception as error:\n",
    "    print(error)          "
   ]
  },
  {
   "cell_type": "code",
   "execution_count": 2,
   "metadata": {},
   "outputs": [
    {
     "name": "stdout",
     "output_type": "stream",
     "text": [
      "紀亮亮您好\n",
      "身高是157公分\n",
      "體重是54公斤\n",
      "BMI為21.91\n",
      "您的體重:適中\n"
     ]
    }
   ],
   "source": [
    "name = input(\"請輸入姓名\")\n",
    "h = eval(input(\"請輸入身高(cm)\"))\n",
    "w = eval(input(\"請輸入體重(kg)\"))\n",
    "\n",
    "BMI = w /(h/100) ** 2\n",
    "\n",
    "print(f\"\"\"{name}您好\n",
    "身高是{h}公分\n",
    "體重是{w}公斤\n",
    "BMI為{round(BMI,ndigits=2)}\"\"\")\n",
    "\n",
    "if BMI<18.5:\n",
    "    print(\"您的體重:過輕\")\n",
    "elif 18.5<=BMI<24:\n",
    "    print(\"您的體重:適中\")\n",
    "else:\n",
    "    print(\"您的體重:過重\")\n",
    "\n",
    "\n"
   ]
  },
  {
   "cell_type": "code",
   "execution_count": 2,
   "metadata": {},
   "outputs": [
    {
     "name": "stdout",
     "output_type": "stream",
     "text": [
      "請輸入2數,求2數公因數:\n",
      "100 和 50 的公因數是:\n",
      "1 2 5 10 25 50 "
     ]
    }
   ],
   "source": [
    "print(\"請輸入2數,求2數公因數:\")\n",
    "n = int(input('請輸入第1個數:'))\n",
    "m = int(input('請輸入第2個數:'))\n",
    "\n",
    "min= n if not(n>m) else m\n",
    "for i in range(1,min+1):\n",
    "    if n % i ==0 and m%i==0:\n",
    "        print(i,end=\" \")"
   ]
  },
  {
   "cell_type": "code",
   "execution_count": 8,
   "metadata": {},
   "outputs": [
    {
     "name": "stdout",
     "output_type": "stream",
     "text": [
      "1你好\n",
      "    身高是：1公分\n",
      "    體重是：1公斤\n",
      "    BMI:10000.0\n",
      "    重度肥胖\n",
      "1你好\n",
      "    身高是：1公分\n",
      "    體重是：1公斤\n",
      "    BMI:10000.0\n",
      "    重度肥胖\n"
     ]
    },
    {
     "ename": "SyntaxError",
     "evalue": "invalid syntax (<string>, line 0)",
     "output_type": "error",
     "traceback": [
      "Traceback \u001b[0;36m(most recent call last)\u001b[0m:\n",
      "\u001b[0m  File \u001b[1;32m~/.local/lib/python3.11/site-packages/IPython/core/interactiveshell.py:3577\u001b[0m in \u001b[1;35mrun_code\u001b[0m\n    exec(code_obj, self.user_global_ns, self.user_ns)\u001b[0m\n",
      "\u001b[0;36m  Cell \u001b[0;32mIn[8], line 3\u001b[0;36m\n\u001b[0;31m    height = eval(input(\"請輸入身高(cm)：\"))\u001b[0;36m\n",
      "\u001b[0;36m  File \u001b[0;32m<string>\u001b[0;36m\u001b[0m\n\u001b[0;31m    \u001b[0m\n\u001b[0m    ^\u001b[0m\n\u001b[0;31mSyntaxError\u001b[0m\u001b[0;31m:\u001b[0m invalid syntax\n"
     ]
    }
   ],
   "source": [
    "while True:       \n",
    "    name = input(\"請輸入姓名：\")\n",
    "    while True:\n",
    "        try:\n",
    "            height = eval(input(\"請輸入身高(cm)：\"))\n",
    "            break\n",
    "        except Exception:\n",
    "            continue\n",
    "\n",
    "    while True:\n",
    "        try:\n",
    "            weight = eval(input(\"請輸入體重(kg)：\"))\n",
    "            break\n",
    "        except Exception:\n",
    "            continue\n",
    "\n",
    "    bmi = weight/(height/100) ** 2\n",
    "    if bmi >= 35:\n",
    "        status = '重度肥胖'\n",
    "    elif bmi >= 30:\n",
    "        status = '中度肥胖'\n",
    "    elif bmi >= 27:\n",
    "        status = '輕度肥胖'\n",
    "    elif bmi >= 24:\n",
    "        status = '體重過重'\n",
    "    elif bmi >= 18.5:\n",
    "        status = '體重正常'\n",
    "    else:\n",
    "        status = '體重過輕'\n",
    "    print(f\"\"\"{name}你好\n",
    "    身高是：{height}公分\n",
    "    體重是：{weight}公斤\n",
    "    BMI:{round(bmi,ndigits=2)}\n",
    "    {status}\"\"\")\n",
    "\n",
    "    \n",
    "    answer=input(\"離開(q)or繼續(c)\")\n",
    "    if answer==\"q\":\n",
    "        break\n",
    "    \n",
    "        \n",
    "print(\"應用程式結束\")"
   ]
  },
  {
   "cell_type": "code",
   "execution_count": null,
   "metadata": {},
   "outputs": [],
   "source": [
    "import random\n",
    "while True:\n",
    "    min = 1\n",
    "    max = 100\n",
    "    target = random.randint(min, max)\n",
    "    print(target)\n",
    "    print(\"===========猜數字遊戲============\\n\")\n",
    "    count = 0\n",
    "\n",
    "    while True:\n",
    "        \n",
    "        try:\n",
    "            keyin = int(input(f\"猜數字範圍{min}~{max}:\"))\n",
    "            count += 1\n",
    "        except:\n",
    "            print(\"格式錯誤\")     # 輸入錯誤不算次數\n",
    "            continue\n",
    "\n",
    "        if keyin < min or keyin > max:\n",
    "            print(\"超過範圍\")        \n",
    "            continue\n",
    "\n",
    "        \n",
    "\n",
    "        if keyin == target:\n",
    "            print(f\"賓果!猜對了, 答案是:{keyin}\")\n",
    "            print(f\"您猜了{count}次\")\n",
    "            break\n",
    "        elif keyin > target:\n",
    "            print(\"再小一點\")\n",
    "            max = keyin - 1\n",
    "            \n",
    "        elif keyin < target:\n",
    "            print(\"再大一點\")\n",
    "            min = keyin + 1\n",
    "        print(f\"您已經猜了{count}次\")   \n",
    "    \n",
    "    play = str(input(\"是否繼續(y/n)\"))\n",
    "    if play == \"n\":\n",
    "        break\n",
    "    else:\n",
    "        continue    \n",
    "print(\"應用程式結束\")"
   ]
  },
  {
   "cell_type": "code",
   "execution_count": null,
   "metadata": {},
   "outputs": [],
   "source": [
    "import pyinputplus as pyip\n",
    "\n",
    "class Person():\n",
    "    def __init__(self,n:str,h:int,w:int):\n",
    "        self.name = n\n",
    "        self.height = h\n",
    "        self.weight = w\n",
    "\n",
    "    def getBmi(self) -> float:\n",
    "        return self.weight / (self.height/100) ** 2\n",
    "    \n",
    "    def get_status(self) -> str:\n",
    "        bmi:float = self.getBmi()\n",
    "        if bmi >= 35:\n",
    "            return '重度肥胖'\n",
    "        elif bmi >= 30:\n",
    "            return '中度肥胖'\n",
    "        elif bmi >= 27:\n",
    "            return '輕度肥胖'\n",
    "        elif bmi >= 24:\n",
    "            return '體重過重'\n",
    "        elif bmi >= 18.5:\n",
    "            return '體重正常'\n",
    "        else:\n",
    "            return '體重過輕'\n",
    "        \n",
    "    def bmi_print(self)->str:\n",
    "        return f\"{self.name}你好\\n身高是：{self.height}公分\\n體重是：{self.weight}公斤\\nBMI:{round(self.getBmi(),ndigits=2)}\\n{self.get_status()}\"\n",
    "    \n",
    "while True:       \n",
    "    name = pyip.inputStr(\"請輸入姓名：\")\n",
    "    print(name,\"\\n\")\n",
    "\n",
    "    height= pyip.inputNum(\"請輸入身高(cm)：\")\n",
    "    print(height,\"\\n\")\n",
    "    weight = pyip.inputNum(\"請輸入體重(kg)：\")\n",
    "    print(weight,\"\\n\")\n",
    "\n",
    "    p = Person(name,height,weight)\n",
    "    print(p.bmi_print())\n",
    "    \n",
    "    answer=input(\"離開(q)or繼續(c)\")\n",
    "    if answer==\"q\":\n",
    "        break\n",
    "    \n",
    "        \n",
    "print(\"應用程式結束\")"
   ]
  },
  {
   "cell_type": "code",
   "execution_count": null,
   "metadata": {},
   "outputs": [],
   "source": [
    "import random\n",
    "with open (\"names(test).txt\",encoding=\"utf-8\")as file:\n",
    "    contents:str=file.read()\n",
    "    names:list[str]=contents.split(sep=\"\\n\")\n",
    "    people_names=random.choices(names,k=50)"
   ]
  },
  {
   "cell_type": "code",
   "execution_count": null,
   "metadata": {},
   "outputs": [],
   "source": [
    "people=[]\n",
    "for name in people_names:\n",
    "    height=random.randint(150,190)\n",
    "    weight=random.randint(50,90)\n",
    "    people.append({\"姓名\":name,\n",
    "     \"身高\":height,\n",
    "     \"體重\":weight,})"
   ]
  }
 ],
 "metadata": {
  "kernelspec": {
   "display_name": "Python 3",
   "language": "python",
   "name": "python3"
  },
  "language_info": {
   "codemirror_mode": {
    "name": "ipython",
    "version": 3
   },
   "file_extension": ".py",
   "mimetype": "text/x-python",
   "name": "python",
   "nbconvert_exporter": "python",
   "pygments_lexer": "ipython3",
   "version": "3.11.9"
  }
 },
 "nbformat": 4,
 "nbformat_minor": 2
}
