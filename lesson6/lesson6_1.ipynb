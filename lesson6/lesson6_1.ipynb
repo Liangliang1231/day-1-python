{
 "cells": [
  {
   "cell_type": "code",
   "execution_count": null,
   "metadata": {},
   "outputs": [],
   "source": [
    "try:\n",
    "    num=int(input(\"請輸入整數\"))\n",
    "    if num==0:\n",
    "        print(f\"{num}是零\")\n",
    "    elif num>0:\n",
    "        print(f\"{num}是正數\")\n",
    "    else:\n",
    "        print(f\"{num}是負數\")\n",
    "    \n",
    "    if num%2==1:\n",
    "        print((f\"{num}是奇數\"))\n",
    "    else:\n",
    "        print((f\"{num}是偶數\"))\n",
    "except:\n",
    "    print(\"輸入錯誤\")      "
   ]
  },
  {
   "cell_type": "code",
   "execution_count": null,
   "metadata": {},
   "outputs": [],
   "source": [
    "score=int(input(\"請輸入分數:\"))\n",
    "if score>=90:\n",
    "    print(\"優\")\n",
    "elif score>=80:     \n",
    "    print(\"甲\")\n",
    "elif score>=70:     \n",
    "    print(\"乙\")\n",
    "elif score>=60:     \n",
    "    print(\"丙\")\n",
    "else:     \n",
    "    print(\"丁\")"
   ]
  },
  {
   "cell_type": "code",
   "execution_count": null,
   "metadata": {},
   "outputs": [],
   "source": [
    "## not\n",
    "\n",
    "is_add=input(\"請問是否加分(y,n):\")\n",
    "if not is_add==\"y\":\n",
    "    print(\"不加分\")\n",
    "else:\n",
    "    print(\"加分\")    "
   ]
  },
  {
   "cell_type": "code",
   "execution_count": null,
   "metadata": {},
   "outputs": [],
   "source": [
    "chinese = int(\"請輸入國文分數:\")\n",
    "math = int(\"請輸入數學分數:\")\n",
    "if chinese ==100 and math ==100\n",
    "    bounus=1000\n",
    "elif chinese==100 or math==100\n",
    "    bounus=500\n",
    "else:\n",
    "    bounus=0\n",
    "\n",
    "print(f\"獎金{bounus}\")"
   ]
  }
 ],
 "metadata": {
  "kernelspec": {
   "display_name": "Python 3",
   "language": "python",
   "name": "python3"
  },
  "language_info": {
   "name": "python",
   "version": "3.11.9"
  }
 },
 "nbformat": 4,
 "nbformat_minor": 2
}
