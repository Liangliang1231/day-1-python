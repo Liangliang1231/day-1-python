{
 "cells": [
  {
   "cell_type": "code",
   "execution_count": 1,
   "metadata": {},
   "outputs": [],
   "source": [
    "import os\n",
    "def get_path() -> list[str]:\n",
    "    current_path = os.path.dirname(os.path.abspath(__name__))\n",
    "    folder_path = os.path.join(current_path,'每日各站進出站人數')\n",
    "    fileName_list = []\n",
    "    for filename in os.listdir(folder_path):\n",
    "        if '每日各站進出站人數' in filename:\n",
    "            fileName_list.append(os.path.join(folder_path,filename))\n",
    "    return fileName_list"
   ]
  },
  {
   "cell_type": "code",
   "execution_count": 2,
   "metadata": {},
   "outputs": [],
   "source": [
    "from pandas import DataFrame\n",
    "\n",
    "def station_info() -> DataFrame:\n",
    "    import os,json\n",
    "    import pandas as pd\n",
    "    current_path = os.path.dirname(os.path.abspath(__name__))\n",
    "    folder_path = os.path.join(current_path,'每日各站進出站人數')\n",
    "    stations_path = os.path.join(folder_path,'車站基本資料集.json')\n",
    "    with open(stations_path,encoding='utf-8') as file:\n",
    "        station_content = json.load(file)\n",
    "\n",
    "    stations_df = pd.DataFrame(station_content)\n",
    "\n",
    "\n",
    "    stations_df['stationCode'] = stations_df['stationCode'].astype(int)\n",
    "    return stations_df "
   ]
  },
  {
   "cell_type": "code",
   "execution_count": 3,
   "metadata": {},
   "outputs": [],
   "source": [
    "def merge_dataFrame(names:list[str], station:DataFrame) -> list[DataFrame]:\n",
    "    import pandas as pd\n",
    "    all_frames = []\n",
    "    for name in names:\n",
    "        inOut_df = pd.read_csv(name)\n",
    "        df1 = pd.merge(inOut_df,station,left_on='staCode',right_on='stationCode')\n",
    "        df2 = df1.reindex(columns=['trnOpDate','stationName','gateInComingCnt','gateOutGoingCnt'])\n",
    "        df3 = df2.rename(columns={'trnOpDate':'日期',\n",
    "                    'stationName':'站名',\n",
    "                    'gateInComingCnt':'進站',\n",
    "                    'gateOutGoingCnt':'出站'\n",
    "                    })\n",
    "        df3['日期'] = pd.to_datetime(df3['日期'].astype(str))\n",
    "        all_frames.append(df3)\n",
    "    return all_frames"
   ]
  },
  {
   "cell_type": "code",
   "execution_count": 7,
   "metadata": {},
   "outputs": [
    {
     "ename": "FileNotFoundError",
     "evalue": "[WinError 3] 系統找不到指定的路徑。: 'c:\\\\Users\\\\Administrator\\\\Documents\\\\GitHub\\\\day-1-python\\\\lesson19\\\\每日各站進出站人數'",
     "output_type": "error",
     "traceback": [
      "\u001b[1;31m---------------------------------------------------------------------------\u001b[0m",
      "\u001b[1;31mFileNotFoundError\u001b[0m                         Traceback (most recent call last)",
      "Cell \u001b[1;32mIn[7], line 2\u001b[0m\n\u001b[0;32m      1\u001b[0m \u001b[38;5;28;01mimport\u001b[39;00m \u001b[38;5;21;01mpandas\u001b[39;00m \u001b[38;5;28;01mas\u001b[39;00m \u001b[38;5;21;01mpd\u001b[39;00m\n\u001b[1;32m----> 2\u001b[0m fileName_list \u001b[38;5;241m=\u001b[39m \u001b[43mget_path\u001b[49m\u001b[43m(\u001b[49m\u001b[43m)\u001b[49m\n\u001b[0;32m      3\u001b[0m stations_df \u001b[38;5;241m=\u001b[39m station_info()\n\u001b[0;32m      4\u001b[0m all_in_out \u001b[38;5;241m=\u001b[39m merge_dataFrame(fileName_list, stations_df)\n",
      "Cell \u001b[1;32mIn[1], line 6\u001b[0m, in \u001b[0;36mget_path\u001b[1;34m()\u001b[0m\n\u001b[0;32m      4\u001b[0m folder_path \u001b[38;5;241m=\u001b[39m os\u001b[38;5;241m.\u001b[39mpath\u001b[38;5;241m.\u001b[39mjoin(current_path,\u001b[38;5;124m'\u001b[39m\u001b[38;5;124m每日各站進出站人數\u001b[39m\u001b[38;5;124m'\u001b[39m)\n\u001b[0;32m      5\u001b[0m fileName_list \u001b[38;5;241m=\u001b[39m []\n\u001b[1;32m----> 6\u001b[0m \u001b[38;5;28;01mfor\u001b[39;00m filename \u001b[38;5;129;01min\u001b[39;00m \u001b[43mos\u001b[49m\u001b[38;5;241;43m.\u001b[39;49m\u001b[43mlistdir\u001b[49m\u001b[43m(\u001b[49m\u001b[43mfolder_path\u001b[49m\u001b[43m)\u001b[49m:\n\u001b[0;32m      7\u001b[0m     \u001b[38;5;28;01mif\u001b[39;00m \u001b[38;5;124m'\u001b[39m\u001b[38;5;124m每日各站進出站人數\u001b[39m\u001b[38;5;124m'\u001b[39m \u001b[38;5;129;01min\u001b[39;00m filename:\n\u001b[0;32m      8\u001b[0m         fileName_list\u001b[38;5;241m.\u001b[39mappend(os\u001b[38;5;241m.\u001b[39mpath\u001b[38;5;241m.\u001b[39mjoin(folder_path,filename))\n",
      "\u001b[1;31mFileNotFoundError\u001b[0m: [WinError 3] 系統找不到指定的路徑。: 'c:\\\\Users\\\\Administrator\\\\Documents\\\\GitHub\\\\day-1-python\\\\lesson19\\\\每日各站進出站人數'"
     ]
    }
   ],
   "source": [
    "import pandas as pd\n",
    "fileName_list = get_path()\n",
    "stations_df = station_info()\n",
    "all_in_out = merge_dataFrame(fileName_list, stations_df)\n",
    "pd.concat(all_in_out)"
   ]
  }
 ],
 "metadata": {
  "kernelspec": {
   "display_name": "base",
   "language": "python",
   "name": "python3"
  },
  "language_info": {
   "codemirror_mode": {
    "name": "ipython",
    "version": 3
   },
   "file_extension": ".py",
   "mimetype": "text/x-python",
   "name": "python",
   "nbconvert_exporter": "python",
   "pygments_lexer": "ipython3",
   "version": "3.12.3"
  }
 },
 "nbformat": 4,
 "nbformat_minor": 2
}
